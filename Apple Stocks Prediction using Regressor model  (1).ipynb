{
 "cells": [
  {
   "cell_type": "code",
   "execution_count": 1,
   "id": "feeb5498",
   "metadata": {},
   "outputs": [],
   "source": [
    "# importing libraries \n",
    "import numpy as np \n",
    "import pandas as pd \n",
    "\n",
    "# visualisation libraries \n",
    "import matplotlib.pyplot as plt \n",
    "import seaborn as sb \n",
    "\n",
    "# XGBRegressor  ML model \n",
    "from xgboost import XGBRegressor\n",
    "\n",
    "# Machine Learning libraries \n",
    "from sklearn import metrics\n",
    "from sklearn.preprocessing import MinMaxScaler\n",
    "\n",
    "# ensure plot appear along with code cell\n",
    "%matplotlib inline  "
   ]
  },
  {
   "cell_type": "code",
   "execution_count": 2,
   "id": "b5b794ae",
   "metadata": {},
   "outputs": [
    {
     "data": {
      "text/html": [
       "<div>\n",
       "<style scoped>\n",
       "    .dataframe tbody tr th:only-of-type {\n",
       "        vertical-align: middle;\n",
       "    }\n",
       "\n",
       "    .dataframe tbody tr th {\n",
       "        vertical-align: top;\n",
       "    }\n",
       "\n",
       "    .dataframe thead th {\n",
       "        text-align: right;\n",
       "    }\n",
       "</style>\n",
       "<table border=\"1\" class=\"dataframe\">\n",
       "  <thead>\n",
       "    <tr style=\"text-align: right;\">\n",
       "      <th></th>\n",
       "      <th>date</th>\n",
       "      <th>ts_polarity</th>\n",
       "      <th>twitter_volume</th>\n",
       "    </tr>\n",
       "  </thead>\n",
       "  <tbody>\n",
       "    <tr>\n",
       "      <th>0</th>\n",
       "      <td>2016-01-01</td>\n",
       "      <td>0.119693</td>\n",
       "      <td>417</td>\n",
       "    </tr>\n",
       "    <tr>\n",
       "      <th>1</th>\n",
       "      <td>2016-01-02</td>\n",
       "      <td>0.140774</td>\n",
       "      <td>495</td>\n",
       "    </tr>\n",
       "    <tr>\n",
       "      <th>2</th>\n",
       "      <td>2016-01-03</td>\n",
       "      <td>0.181132</td>\n",
       "      <td>518</td>\n",
       "    </tr>\n",
       "    <tr>\n",
       "      <th>3</th>\n",
       "      <td>2016-01-04</td>\n",
       "      <td>0.070389</td>\n",
       "      <td>1133</td>\n",
       "    </tr>\n",
       "    <tr>\n",
       "      <th>4</th>\n",
       "      <td>2016-01-05</td>\n",
       "      <td>0.133635</td>\n",
       "      <td>1430</td>\n",
       "    </tr>\n",
       "  </tbody>\n",
       "</table>\n",
       "</div>"
      ],
      "text/plain": [
       "         date  ts_polarity  twitter_volume\n",
       "0  2016-01-01     0.119693             417\n",
       "1  2016-01-02     0.140774             495\n",
       "2  2016-01-03     0.181132             518\n",
       "3  2016-01-04     0.070389            1133\n",
       "4  2016-01-05     0.133635            1430"
      ]
     },
     "execution_count": 2,
     "metadata": {},
     "output_type": "execute_result"
    }
   ],
   "source": [
    "# Twiiter sentiment data for Apple stock from kaggle \n",
    "twitter_sentimental_df = pd.read_csv(\"C:\\\\Users\\\\saI\\\\Downloads\\\\AAPL (1).csv\")\n",
    "twitter_sentimental_df.head()"
   ]
  },
  {
   "cell_type": "code",
   "execution_count": 3,
   "id": "e5b1df31",
   "metadata": {},
   "outputs": [
    {
     "data": {
      "text/html": [
       "<div>\n",
       "<style scoped>\n",
       "    .dataframe tbody tr th:only-of-type {\n",
       "        vertical-align: middle;\n",
       "    }\n",
       "\n",
       "    .dataframe tbody tr th {\n",
       "        vertical-align: top;\n",
       "    }\n",
       "\n",
       "    .dataframe thead th {\n",
       "        text-align: right;\n",
       "    }\n",
       "</style>\n",
       "<table border=\"1\" class=\"dataframe\">\n",
       "  <thead>\n",
       "    <tr style=\"text-align: right;\">\n",
       "      <th></th>\n",
       "      <th>Date</th>\n",
       "      <th>Open</th>\n",
       "      <th>High</th>\n",
       "      <th>Low</th>\n",
       "      <th>Close</th>\n",
       "      <th>Adj Close</th>\n",
       "      <th>Volume</th>\n",
       "    </tr>\n",
       "  </thead>\n",
       "  <tbody>\n",
       "    <tr>\n",
       "      <th>0</th>\n",
       "      <td>2016-01-04</td>\n",
       "      <td>25.652500</td>\n",
       "      <td>26.342501</td>\n",
       "      <td>25.500000</td>\n",
       "      <td>26.337500</td>\n",
       "      <td>24.185045</td>\n",
       "      <td>270597600</td>\n",
       "    </tr>\n",
       "    <tr>\n",
       "      <th>1</th>\n",
       "      <td>2016-01-05</td>\n",
       "      <td>26.437500</td>\n",
       "      <td>26.462500</td>\n",
       "      <td>25.602501</td>\n",
       "      <td>25.677500</td>\n",
       "      <td>23.578985</td>\n",
       "      <td>223164000</td>\n",
       "    </tr>\n",
       "    <tr>\n",
       "      <th>2</th>\n",
       "      <td>2016-01-06</td>\n",
       "      <td>25.139999</td>\n",
       "      <td>25.592501</td>\n",
       "      <td>24.967501</td>\n",
       "      <td>25.174999</td>\n",
       "      <td>23.117548</td>\n",
       "      <td>273829600</td>\n",
       "    </tr>\n",
       "    <tr>\n",
       "      <th>3</th>\n",
       "      <td>2016-01-07</td>\n",
       "      <td>24.670000</td>\n",
       "      <td>25.032499</td>\n",
       "      <td>24.107500</td>\n",
       "      <td>24.112499</td>\n",
       "      <td>22.141886</td>\n",
       "      <td>324377600</td>\n",
       "    </tr>\n",
       "    <tr>\n",
       "      <th>4</th>\n",
       "      <td>2016-01-08</td>\n",
       "      <td>24.637501</td>\n",
       "      <td>24.777500</td>\n",
       "      <td>24.190001</td>\n",
       "      <td>24.240000</td>\n",
       "      <td>22.258965</td>\n",
       "      <td>283192000</td>\n",
       "    </tr>\n",
       "  </tbody>\n",
       "</table>\n",
       "</div>"
      ],
      "text/plain": [
       "         Date       Open       High        Low      Close  Adj Close  \\\n",
       "0  2016-01-04  25.652500  26.342501  25.500000  26.337500  24.185045   \n",
       "1  2016-01-05  26.437500  26.462500  25.602501  25.677500  23.578985   \n",
       "2  2016-01-06  25.139999  25.592501  24.967501  25.174999  23.117548   \n",
       "3  2016-01-07  24.670000  25.032499  24.107500  24.112499  22.141886   \n",
       "4  2016-01-08  24.637501  24.777500  24.190001  24.240000  22.258965   \n",
       "\n",
       "      Volume  \n",
       "0  270597600  \n",
       "1  223164000  \n",
       "2  273829600  \n",
       "3  324377600  \n",
       "4  283192000  "
      ]
     },
     "execution_count": 3,
     "metadata": {},
     "output_type": "execute_result"
    }
   ],
   "source": [
    "# Apple stock data from yahoo \n",
    "stock_price_df = pd.read_csv(\"C:\\\\Users\\\\saI\\\\Downloads\\\\AAPL.csv\")\n",
    "stock_price_df.head()"
   ]
  },
  {
   "cell_type": "code",
   "execution_count": 4,
   "id": "78e4fa7c",
   "metadata": {},
   "outputs": [],
   "source": [
    "# renaming date from to Date beacuse one data contain column name as date while other's column name is Date \n",
    "twitter_sentimental_df.rename(columns={'date':'Date'},inplace=True)"
   ]
  },
  {
   "cell_type": "code",
   "execution_count": 5,
   "id": "e1e5c1b9",
   "metadata": {},
   "outputs": [
    {
     "data": {
      "text/plain": [
       "(1341, 3)"
      ]
     },
     "execution_count": 5,
     "metadata": {},
     "output_type": "execute_result"
    }
   ],
   "source": [
    "# Dropping null values from data \n",
    "twitter_sentimental_df = twitter_sentimental_df.dropna(axis=1)\n",
    "twitter_sentimental_df.shape"
   ]
  },
  {
   "cell_type": "code",
   "execution_count": 6,
   "id": "28040f74",
   "metadata": {},
   "outputs": [
    {
     "data": {
      "text/html": [
       "<div>\n",
       "<style scoped>\n",
       "    .dataframe tbody tr th:only-of-type {\n",
       "        vertical-align: middle;\n",
       "    }\n",
       "\n",
       "    .dataframe tbody tr th {\n",
       "        vertical-align: top;\n",
       "    }\n",
       "\n",
       "    .dataframe thead th {\n",
       "        text-align: right;\n",
       "    }\n",
       "</style>\n",
       "<table border=\"1\" class=\"dataframe\">\n",
       "  <thead>\n",
       "    <tr style=\"text-align: right;\">\n",
       "      <th></th>\n",
       "      <th>Date</th>\n",
       "      <th>Open</th>\n",
       "      <th>High</th>\n",
       "      <th>Low</th>\n",
       "      <th>Close</th>\n",
       "      <th>Adj Close</th>\n",
       "      <th>Volume</th>\n",
       "      <th>ts_polarity</th>\n",
       "      <th>twitter_volume</th>\n",
       "    </tr>\n",
       "  </thead>\n",
       "  <tbody>\n",
       "    <tr>\n",
       "      <th>0</th>\n",
       "      <td>2016-01-04</td>\n",
       "      <td>25.652500</td>\n",
       "      <td>26.342501</td>\n",
       "      <td>25.500000</td>\n",
       "      <td>26.337500</td>\n",
       "      <td>24.185045</td>\n",
       "      <td>270597600</td>\n",
       "      <td>0.070389</td>\n",
       "      <td>1133</td>\n",
       "    </tr>\n",
       "    <tr>\n",
       "      <th>1</th>\n",
       "      <td>2016-01-05</td>\n",
       "      <td>26.437500</td>\n",
       "      <td>26.462500</td>\n",
       "      <td>25.602501</td>\n",
       "      <td>25.677500</td>\n",
       "      <td>23.578985</td>\n",
       "      <td>223164000</td>\n",
       "      <td>0.133635</td>\n",
       "      <td>1430</td>\n",
       "    </tr>\n",
       "    <tr>\n",
       "      <th>2</th>\n",
       "      <td>2016-01-06</td>\n",
       "      <td>25.139999</td>\n",
       "      <td>25.592501</td>\n",
       "      <td>24.967501</td>\n",
       "      <td>25.174999</td>\n",
       "      <td>23.117548</td>\n",
       "      <td>273829600</td>\n",
       "      <td>0.072042</td>\n",
       "      <td>1949</td>\n",
       "    </tr>\n",
       "    <tr>\n",
       "      <th>3</th>\n",
       "      <td>2016-01-07</td>\n",
       "      <td>24.670000</td>\n",
       "      <td>25.032499</td>\n",
       "      <td>24.107500</td>\n",
       "      <td>24.112499</td>\n",
       "      <td>22.141886</td>\n",
       "      <td>324377600</td>\n",
       "      <td>0.074369</td>\n",
       "      <td>2289</td>\n",
       "    </tr>\n",
       "    <tr>\n",
       "      <th>4</th>\n",
       "      <td>2016-01-08</td>\n",
       "      <td>24.637501</td>\n",
       "      <td>24.777500</td>\n",
       "      <td>24.190001</td>\n",
       "      <td>24.240000</td>\n",
       "      <td>22.258965</td>\n",
       "      <td>283192000</td>\n",
       "      <td>0.051595</td>\n",
       "      <td>2235</td>\n",
       "    </tr>\n",
       "  </tbody>\n",
       "</table>\n",
       "</div>"
      ],
      "text/plain": [
       "         Date       Open       High        Low      Close  Adj Close  \\\n",
       "0  2016-01-04  25.652500  26.342501  25.500000  26.337500  24.185045   \n",
       "1  2016-01-05  26.437500  26.462500  25.602501  25.677500  23.578985   \n",
       "2  2016-01-06  25.139999  25.592501  24.967501  25.174999  23.117548   \n",
       "3  2016-01-07  24.670000  25.032499  24.107500  24.112499  22.141886   \n",
       "4  2016-01-08  24.637501  24.777500  24.190001  24.240000  22.258965   \n",
       "\n",
       "      Volume  ts_polarity  twitter_volume  \n",
       "0  270597600     0.070389            1133  \n",
       "1  223164000     0.133635            1430  \n",
       "2  273829600     0.072042            1949  \n",
       "3  324377600     0.074369            2289  \n",
       "4  283192000     0.051595            2235  "
      ]
     },
     "execution_count": 6,
     "metadata": {},
     "output_type": "execute_result"
    }
   ],
   "source": [
    "# merging two data using comman column 'Date'\n",
    "merged_df = stock_price_df.merge(twitter_sentimental_df,on=\"Date\")\n",
    "merged_df.head()\n"
   ]
  },
  {
   "cell_type": "code",
   "execution_count": 7,
   "id": "f988ceb9",
   "metadata": {},
   "outputs": [
    {
     "data": {
      "text/html": [
       "<div>\n",
       "<style scoped>\n",
       "    .dataframe tbody tr th:only-of-type {\n",
       "        vertical-align: middle;\n",
       "    }\n",
       "\n",
       "    .dataframe tbody tr th {\n",
       "        vertical-align: top;\n",
       "    }\n",
       "\n",
       "    .dataframe thead th {\n",
       "        text-align: right;\n",
       "    }\n",
       "</style>\n",
       "<table border=\"1\" class=\"dataframe\">\n",
       "  <thead>\n",
       "    <tr style=\"text-align: right;\">\n",
       "      <th></th>\n",
       "      <th>Date</th>\n",
       "      <th>Adj Close</th>\n",
       "      <th>ts_polarity</th>\n",
       "      <th>twitter_volume</th>\n",
       "    </tr>\n",
       "  </thead>\n",
       "  <tbody>\n",
       "    <tr>\n",
       "      <th>0</th>\n",
       "      <td>2016-01-04</td>\n",
       "      <td>24.185045</td>\n",
       "      <td>0.070389</td>\n",
       "      <td>1133</td>\n",
       "    </tr>\n",
       "    <tr>\n",
       "      <th>1</th>\n",
       "      <td>2016-01-05</td>\n",
       "      <td>23.578985</td>\n",
       "      <td>0.133635</td>\n",
       "      <td>1430</td>\n",
       "    </tr>\n",
       "    <tr>\n",
       "      <th>2</th>\n",
       "      <td>2016-01-06</td>\n",
       "      <td>23.117548</td>\n",
       "      <td>0.072042</td>\n",
       "      <td>1949</td>\n",
       "    </tr>\n",
       "    <tr>\n",
       "      <th>3</th>\n",
       "      <td>2016-01-07</td>\n",
       "      <td>22.141886</td>\n",
       "      <td>0.074369</td>\n",
       "      <td>2289</td>\n",
       "    </tr>\n",
       "    <tr>\n",
       "      <th>4</th>\n",
       "      <td>2016-01-08</td>\n",
       "      <td>22.258965</td>\n",
       "      <td>0.051595</td>\n",
       "      <td>2235</td>\n",
       "    </tr>\n",
       "  </tbody>\n",
       "</table>\n",
       "</div>"
      ],
      "text/plain": [
       "         Date  Adj Close  ts_polarity  twitter_volume\n",
       "0  2016-01-04  24.185045     0.070389            1133\n",
       "1  2016-01-05  23.578985     0.133635            1430\n",
       "2  2016-01-06  23.117548     0.072042            1949\n",
       "3  2016-01-07  22.141886     0.074369            2289\n",
       "4  2016-01-08  22.258965     0.051595            2235"
      ]
     },
     "execution_count": 7,
     "metadata": {},
     "output_type": "execute_result"
    }
   ],
   "source": [
    "# redefining dataframe with only those features with useful feature only \n",
    "df = merged_df[['Date','Adj Close','ts_polarity','twitter_volume']]\n",
    "df.head()"
   ]
  },
  {
   "cell_type": "code",
   "execution_count": 8,
   "id": "6a48569c",
   "metadata": {},
   "outputs": [
    {
     "data": {
      "text/plain": [
       "(922, 4)"
      ]
     },
     "execution_count": 8,
     "metadata": {},
     "output_type": "execute_result"
    }
   ],
   "source": [
    "df.shape"
   ]
  },
  {
   "cell_type": "code",
   "execution_count": 9,
   "id": "b59f764b",
   "metadata": {},
   "outputs": [
    {
     "data": {
      "text/html": [
       "<div>\n",
       "<style scoped>\n",
       "    .dataframe tbody tr th:only-of-type {\n",
       "        vertical-align: middle;\n",
       "    }\n",
       "\n",
       "    .dataframe tbody tr th {\n",
       "        vertical-align: top;\n",
       "    }\n",
       "\n",
       "    .dataframe thead th {\n",
       "        text-align: right;\n",
       "    }\n",
       "</style>\n",
       "<table border=\"1\" class=\"dataframe\">\n",
       "  <thead>\n",
       "    <tr style=\"text-align: right;\">\n",
       "      <th></th>\n",
       "      <th>Adj Close</th>\n",
       "      <th>ts_polarity</th>\n",
       "      <th>twitter_volume</th>\n",
       "    </tr>\n",
       "  </thead>\n",
       "  <tbody>\n",
       "    <tr>\n",
       "      <th>count</th>\n",
       "      <td>922.000000</td>\n",
       "      <td>922.000000</td>\n",
       "      <td>922.000000</td>\n",
       "    </tr>\n",
       "    <tr>\n",
       "      <th>mean</th>\n",
       "      <td>37.082343</td>\n",
       "      <td>0.098588</td>\n",
       "      <td>1139.485900</td>\n",
       "    </tr>\n",
       "    <tr>\n",
       "      <th>std</th>\n",
       "      <td>9.665127</td>\n",
       "      <td>0.047102</td>\n",
       "      <td>736.596794</td>\n",
       "    </tr>\n",
       "    <tr>\n",
       "      <th>min</th>\n",
       "      <td>20.978710</td>\n",
       "      <td>-0.061656</td>\n",
       "      <td>73.000000</td>\n",
       "    </tr>\n",
       "    <tr>\n",
       "      <th>25%</th>\n",
       "      <td>27.160127</td>\n",
       "      <td>0.068843</td>\n",
       "      <td>783.250000</td>\n",
       "    </tr>\n",
       "    <tr>\n",
       "      <th>50%</th>\n",
       "      <td>37.943664</td>\n",
       "      <td>0.101830</td>\n",
       "      <td>987.000000</td>\n",
       "    </tr>\n",
       "    <tr>\n",
       "      <th>75%</th>\n",
       "      <td>44.820825</td>\n",
       "      <td>0.129126</td>\n",
       "      <td>1257.750000</td>\n",
       "    </tr>\n",
       "    <tr>\n",
       "      <th>max</th>\n",
       "      <td>55.972591</td>\n",
       "      <td>0.274161</td>\n",
       "      <td>7871.000000</td>\n",
       "    </tr>\n",
       "  </tbody>\n",
       "</table>\n",
       "</div>"
      ],
      "text/plain": [
       "        Adj Close  ts_polarity  twitter_volume\n",
       "count  922.000000   922.000000      922.000000\n",
       "mean    37.082343     0.098588     1139.485900\n",
       "std      9.665127     0.047102      736.596794\n",
       "min     20.978710    -0.061656       73.000000\n",
       "25%     27.160127     0.068843      783.250000\n",
       "50%     37.943664     0.101830      987.000000\n",
       "75%     44.820825     0.129126     1257.750000\n",
       "max     55.972591     0.274161     7871.000000"
      ]
     },
     "execution_count": 9,
     "metadata": {},
     "output_type": "execute_result"
    }
   ],
   "source": [
    "df.describe()"
   ]
  },
  {
   "cell_type": "code",
   "execution_count": 10,
   "id": "82c98a31",
   "metadata": {},
   "outputs": [
    {
     "data": {
      "text/plain": [
       "Index(['Date', 'Adj Close', 'ts_polarity', 'twitter_volume'], dtype='object')"
      ]
     },
     "execution_count": 10,
     "metadata": {},
     "output_type": "execute_result"
    }
   ],
   "source": [
    "df.columns"
   ]
  },
  {
   "cell_type": "code",
   "execution_count": 11,
   "id": "7a2a669e",
   "metadata": {},
   "outputs": [
    {
     "name": "stdout",
     "output_type": "stream",
     "text": [
      "<class 'pandas.core.frame.DataFrame'>\n",
      "Int64Index: 922 entries, 0 to 921\n",
      "Data columns (total 4 columns):\n",
      " #   Column          Non-Null Count  Dtype  \n",
      "---  ------          --------------  -----  \n",
      " 0   Date            922 non-null    object \n",
      " 1   Adj Close       922 non-null    float64\n",
      " 2   ts_polarity     922 non-null    float64\n",
      " 3   twitter_volume  922 non-null    int64  \n",
      "dtypes: float64(2), int64(1), object(1)\n",
      "memory usage: 36.0+ KB\n"
     ]
    }
   ],
   "source": [
    "df.info()"
   ]
  },
  {
   "cell_type": "code",
   "execution_count": 12,
   "id": "9ccfe28b",
   "metadata": {},
   "outputs": [
    {
     "data": {
      "text/html": [
       "<div>\n",
       "<style scoped>\n",
       "    .dataframe tbody tr th:only-of-type {\n",
       "        vertical-align: middle;\n",
       "    }\n",
       "\n",
       "    .dataframe tbody tr th {\n",
       "        vertical-align: top;\n",
       "    }\n",
       "\n",
       "    .dataframe thead th {\n",
       "        text-align: right;\n",
       "    }\n",
       "</style>\n",
       "<table border=\"1\" class=\"dataframe\">\n",
       "  <thead>\n",
       "    <tr style=\"text-align: right;\">\n",
       "      <th></th>\n",
       "      <th>Adj Close</th>\n",
       "      <th>ts_polarity</th>\n",
       "      <th>twitter_volume</th>\n",
       "    </tr>\n",
       "    <tr>\n",
       "      <th>Date</th>\n",
       "      <th></th>\n",
       "      <th></th>\n",
       "      <th></th>\n",
       "    </tr>\n",
       "  </thead>\n",
       "  <tbody>\n",
       "    <tr>\n",
       "      <th>2016-01-04</th>\n",
       "      <td>24.185045</td>\n",
       "      <td>0.070389</td>\n",
       "      <td>1133</td>\n",
       "    </tr>\n",
       "    <tr>\n",
       "      <th>2016-01-05</th>\n",
       "      <td>23.578985</td>\n",
       "      <td>0.133635</td>\n",
       "      <td>1430</td>\n",
       "    </tr>\n",
       "    <tr>\n",
       "      <th>2016-01-06</th>\n",
       "      <td>23.117548</td>\n",
       "      <td>0.072042</td>\n",
       "      <td>1949</td>\n",
       "    </tr>\n",
       "    <tr>\n",
       "      <th>2016-01-07</th>\n",
       "      <td>22.141886</td>\n",
       "      <td>0.074369</td>\n",
       "      <td>2289</td>\n",
       "    </tr>\n",
       "    <tr>\n",
       "      <th>2016-01-08</th>\n",
       "      <td>22.258965</td>\n",
       "      <td>0.051595</td>\n",
       "      <td>2235</td>\n",
       "    </tr>\n",
       "    <tr>\n",
       "      <th>...</th>\n",
       "      <td>...</td>\n",
       "      <td>...</td>\n",
       "      <td>...</td>\n",
       "    </tr>\n",
       "    <tr>\n",
       "      <th>2019-08-26</th>\n",
       "      <td>50.575821</td>\n",
       "      <td>0.072340</td>\n",
       "      <td>888</td>\n",
       "    </tr>\n",
       "    <tr>\n",
       "      <th>2019-08-27</th>\n",
       "      <td>50.005135</td>\n",
       "      <td>0.117541</td>\n",
       "      <td>962</td>\n",
       "    </tr>\n",
       "    <tr>\n",
       "      <th>2019-08-28</th>\n",
       "      <td>50.340687</td>\n",
       "      <td>0.061477</td>\n",
       "      <td>895</td>\n",
       "    </tr>\n",
       "    <tr>\n",
       "      <th>2019-08-29</th>\n",
       "      <td>51.193043</td>\n",
       "      <td>0.056460</td>\n",
       "      <td>1083</td>\n",
       "    </tr>\n",
       "    <tr>\n",
       "      <th>2019-08-30</th>\n",
       "      <td>51.126915</td>\n",
       "      <td>0.106096</td>\n",
       "      <td>1005</td>\n",
       "    </tr>\n",
       "  </tbody>\n",
       "</table>\n",
       "<p>922 rows × 3 columns</p>\n",
       "</div>"
      ],
      "text/plain": [
       "            Adj Close  ts_polarity  twitter_volume\n",
       "Date                                              \n",
       "2016-01-04  24.185045     0.070389            1133\n",
       "2016-01-05  23.578985     0.133635            1430\n",
       "2016-01-06  23.117548     0.072042            1949\n",
       "2016-01-07  22.141886     0.074369            2289\n",
       "2016-01-08  22.258965     0.051595            2235\n",
       "...               ...          ...             ...\n",
       "2019-08-26  50.575821     0.072340             888\n",
       "2019-08-27  50.005135     0.117541             962\n",
       "2019-08-28  50.340687     0.061477             895\n",
       "2019-08-29  51.193043     0.056460            1083\n",
       "2019-08-30  51.126915     0.106096            1005\n",
       "\n",
       "[922 rows x 3 columns]"
      ]
     },
     "execution_count": 12,
     "metadata": {},
     "output_type": "execute_result"
    }
   ],
   "source": [
    "# setting date as index of our DataFrame\n",
    "df.set_index('Date',inplace = True)\n",
    "df"
   ]
  },
  {
   "cell_type": "code",
   "execution_count": 13,
   "id": "0d29d218",
   "metadata": {},
   "outputs": [
    {
     "name": "stderr",
     "output_type": "stream",
     "text": [
      "C:\\Users\\saI\\AppData\\Local\\Temp\\ipykernel_10116\\2747309194.py:2: SettingWithCopyWarning: \n",
      "A value is trying to be set on a copy of a slice from a DataFrame.\n",
      "Try using .loc[row_indexer,col_indexer] = value instead\n",
      "\n",
      "See the caveats in the documentation: https://pandas.pydata.org/pandas-docs/stable/user_guide/indexing.html#returning-a-view-versus-a-copy\n",
      "  df[\"Pct_change\"] = df[\"Adj Close\"].pct_change()\n",
      "C:\\Users\\saI\\AppData\\Local\\Temp\\ipykernel_10116\\2747309194.py:5: SettingWithCopyWarning: \n",
      "A value is trying to be set on a copy of a slice from a DataFrame\n",
      "\n",
      "See the caveats in the documentation: https://pandas.pydata.org/pandas-docs/stable/user_guide/indexing.html#returning-a-view-versus-a-copy\n",
      "  df.dropna(inplace= True)\n"
     ]
    },
    {
     "data": {
      "text/html": [
       "<div>\n",
       "<style scoped>\n",
       "    .dataframe tbody tr th:only-of-type {\n",
       "        vertical-align: middle;\n",
       "    }\n",
       "\n",
       "    .dataframe tbody tr th {\n",
       "        vertical-align: top;\n",
       "    }\n",
       "\n",
       "    .dataframe thead th {\n",
       "        text-align: right;\n",
       "    }\n",
       "</style>\n",
       "<table border=\"1\" class=\"dataframe\">\n",
       "  <thead>\n",
       "    <tr style=\"text-align: right;\">\n",
       "      <th></th>\n",
       "      <th>Adj Close</th>\n",
       "      <th>ts_polarity</th>\n",
       "      <th>twitter_volume</th>\n",
       "      <th>Pct_change</th>\n",
       "    </tr>\n",
       "    <tr>\n",
       "      <th>Date</th>\n",
       "      <th></th>\n",
       "      <th></th>\n",
       "      <th></th>\n",
       "      <th></th>\n",
       "    </tr>\n",
       "  </thead>\n",
       "  <tbody>\n",
       "    <tr>\n",
       "      <th>2016-01-05</th>\n",
       "      <td>23.578985</td>\n",
       "      <td>0.133635</td>\n",
       "      <td>1430</td>\n",
       "      <td>-0.025059</td>\n",
       "    </tr>\n",
       "    <tr>\n",
       "      <th>2016-01-06</th>\n",
       "      <td>23.117548</td>\n",
       "      <td>0.072042</td>\n",
       "      <td>1949</td>\n",
       "      <td>-0.019570</td>\n",
       "    </tr>\n",
       "    <tr>\n",
       "      <th>2016-01-07</th>\n",
       "      <td>22.141886</td>\n",
       "      <td>0.074369</td>\n",
       "      <td>2289</td>\n",
       "      <td>-0.042204</td>\n",
       "    </tr>\n",
       "    <tr>\n",
       "      <th>2016-01-08</th>\n",
       "      <td>22.258965</td>\n",
       "      <td>0.051595</td>\n",
       "      <td>2235</td>\n",
       "      <td>0.005288</td>\n",
       "    </tr>\n",
       "    <tr>\n",
       "      <th>2016-01-11</th>\n",
       "      <td>22.619385</td>\n",
       "      <td>0.019443</td>\n",
       "      <td>1222</td>\n",
       "      <td>0.016192</td>\n",
       "    </tr>\n",
       "  </tbody>\n",
       "</table>\n",
       "</div>"
      ],
      "text/plain": [
       "            Adj Close  ts_polarity  twitter_volume  Pct_change\n",
       "Date                                                          \n",
       "2016-01-05  23.578985     0.133635            1430   -0.025059\n",
       "2016-01-06  23.117548     0.072042            1949   -0.019570\n",
       "2016-01-07  22.141886     0.074369            2289   -0.042204\n",
       "2016-01-08  22.258965     0.051595            2235    0.005288\n",
       "2016-01-11  22.619385     0.019443            1222    0.016192"
      ]
     },
     "execution_count": 13,
     "metadata": {},
     "output_type": "execute_result"
    }
   ],
   "source": [
    "# pct change based on Adj close value (this is in built function like .diff() )\n",
    "df[\"Pct_change\"] = df[\"Adj Close\"].pct_change()\n",
    "\n",
    "# drop null values [ beacuse first column dosen't have previous value for substraction]\n",
    "df.dropna(inplace= True)\n",
    "df.head()"
   ]
  },
  {
   "cell_type": "code",
   "execution_count": 14,
   "id": "b3aa930c",
   "metadata": {},
   "outputs": [
    {
     "name": "stderr",
     "output_type": "stream",
     "text": [
      "C:\\Users\\saI\\AppData\\Local\\Temp\\ipykernel_10116\\3616877961.py:4: SettingWithCopyWarning: \n",
      "A value is trying to be set on a copy of a slice from a DataFrame.\n",
      "Try using .loc[row_indexer,col_indexer] = value instead\n",
      "\n",
      "See the caveats in the documentation: https://pandas.pydata.org/pandas-docs/stable/user_guide/indexing.html#returning-a-view-versus-a-copy\n",
      "  df['Stock Trend'] = np.where(df['Pct_change']>0,Rise,Fall)\n"
     ]
    },
    {
     "data": {
      "text/html": [
       "<div>\n",
       "<style scoped>\n",
       "    .dataframe tbody tr th:only-of-type {\n",
       "        vertical-align: middle;\n",
       "    }\n",
       "\n",
       "    .dataframe tbody tr th {\n",
       "        vertical-align: top;\n",
       "    }\n",
       "\n",
       "    .dataframe thead th {\n",
       "        text-align: right;\n",
       "    }\n",
       "</style>\n",
       "<table border=\"1\" class=\"dataframe\">\n",
       "  <thead>\n",
       "    <tr style=\"text-align: right;\">\n",
       "      <th></th>\n",
       "      <th>Adj Close</th>\n",
       "      <th>ts_polarity</th>\n",
       "      <th>twitter_volume</th>\n",
       "      <th>Pct_change</th>\n",
       "      <th>Stock Trend</th>\n",
       "    </tr>\n",
       "    <tr>\n",
       "      <th>Date</th>\n",
       "      <th></th>\n",
       "      <th></th>\n",
       "      <th></th>\n",
       "      <th></th>\n",
       "      <th></th>\n",
       "    </tr>\n",
       "  </thead>\n",
       "  <tbody>\n",
       "    <tr>\n",
       "      <th>2016-01-05</th>\n",
       "      <td>23.578985</td>\n",
       "      <td>0.133635</td>\n",
       "      <td>1430</td>\n",
       "      <td>-0.025059</td>\n",
       "      <td>0</td>\n",
       "    </tr>\n",
       "    <tr>\n",
       "      <th>2016-01-06</th>\n",
       "      <td>23.117548</td>\n",
       "      <td>0.072042</td>\n",
       "      <td>1949</td>\n",
       "      <td>-0.019570</td>\n",
       "      <td>0</td>\n",
       "    </tr>\n",
       "    <tr>\n",
       "      <th>2016-01-07</th>\n",
       "      <td>22.141886</td>\n",
       "      <td>0.074369</td>\n",
       "      <td>2289</td>\n",
       "      <td>-0.042204</td>\n",
       "      <td>0</td>\n",
       "    </tr>\n",
       "    <tr>\n",
       "      <th>2016-01-08</th>\n",
       "      <td>22.258965</td>\n",
       "      <td>0.051595</td>\n",
       "      <td>2235</td>\n",
       "      <td>0.005288</td>\n",
       "      <td>1</td>\n",
       "    </tr>\n",
       "    <tr>\n",
       "      <th>2016-01-11</th>\n",
       "      <td>22.619385</td>\n",
       "      <td>0.019443</td>\n",
       "      <td>1222</td>\n",
       "      <td>0.016192</td>\n",
       "      <td>1</td>\n",
       "    </tr>\n",
       "  </tbody>\n",
       "</table>\n",
       "</div>"
      ],
      "text/plain": [
       "            Adj Close  ts_polarity  twitter_volume  Pct_change  Stock Trend\n",
       "Date                                                                       \n",
       "2016-01-05  23.578985     0.133635            1430   -0.025059            0\n",
       "2016-01-06  23.117548     0.072042            1949   -0.019570            0\n",
       "2016-01-07  22.141886     0.074369            2289   -0.042204            0\n",
       "2016-01-08  22.258965     0.051595            2235    0.005288            1\n",
       "2016-01-11  22.619385     0.019443            1222    0.016192            1"
      ]
     },
     "execution_count": 14,
     "metadata": {},
     "output_type": "execute_result"
    }
   ],
   "source": [
    "# Adding stock trend as new column 1 if Adj close is higher than previous day else 0 \n",
    "Rise = 1\n",
    "Fall = 0 \n",
    "df['Stock Trend'] = np.where(df['Pct_change']>0,Rise,Fall)\n",
    "df.head()"
   ]
  },
  {
   "cell_type": "code",
   "execution_count": 15,
   "id": "bfd4ae24",
   "metadata": {},
   "outputs": [
    {
     "data": {
      "text/plain": [
       "1    494\n",
       "0    427\n",
       "Name: Stock Trend, dtype: int64"
      ]
     },
     "execution_count": 15,
     "metadata": {},
     "output_type": "execute_result"
    }
   ],
   "source": [
    "df['Stock Trend'].value_counts()"
   ]
  },
  {
   "cell_type": "code",
   "execution_count": 16,
   "id": "bd82d621",
   "metadata": {},
   "outputs": [
    {
     "data": {
      "text/plain": [
       "1    0.536374\n",
       "0    0.463626\n",
       "Name: Stock Trend, dtype: float64"
      ]
     },
     "execution_count": 16,
     "metadata": {},
     "output_type": "execute_result"
    }
   ],
   "source": [
    "# result in % \n",
    "df['Stock Trend'].value_counts(normalize = True)"
   ]
  },
  {
   "cell_type": "code",
   "execution_count": 17,
   "id": "113daa04",
   "metadata": {},
   "outputs": [
    {
     "name": "stderr",
     "output_type": "stream",
     "text": [
      "C:\\Users\\saI\\anaconda3\\lib\\site-packages\\seaborn\\_decorators.py:36: FutureWarning: Pass the following variable as a keyword arg: x. From version 0.12, the only valid positional argument will be `data`, and passing other arguments without an explicit keyword will result in an error or misinterpretation.\n",
      "  warnings.warn(\n"
     ]
    },
    {
     "data": {
      "text/plain": [
       "<AxesSubplot:xlabel='Stock Trend', ylabel='count'>"
      ]
     },
     "execution_count": 17,
     "metadata": {},
     "output_type": "execute_result"
    },
    {
     "data": {
      "image/png": "[encoded data removed]",
      "text/plain": [
       "<Figure size 432x288 with 1 Axes>"
      ]
     },
     "metadata": {
      "needs_background": "light"
     },
     "output_type": "display_data"
    }
   ],
   "source": [
    "sb.countplot(df['Stock Trend'])"
   ]
  },
  {
   "cell_type": "code",
   "execution_count": 18,
   "id": "c12d59b4",
   "metadata": {},
   "outputs": [],
   "source": [
    "# Here we are defining  function \"w_d\" this function will accepts the column number for the features (X) and the target (y)\n",
    "\n",
    "\n",
    "\n",
    "\n",
    "def w_d(df, window, feature_col_number1, feature_col_number2, feature_col_number3, target_col_number):\n",
    "    \n",
    "    \n",
    "   \n",
    "    X_close =    []       # creating emplty list for X_close, X_polarity, X_volume and y\n",
    "    X_polarity = []\n",
    "    X_volume =   []\n",
    "    y =          []\n",
    "    for i in range(len(df) - window):\n",
    "        \n",
    "        # Get close, ts_polarity, tw_vol, and target in the loop\n",
    "        close = df.iloc[i:(i + window), feature_col_number1]\n",
    "        ts_polarity = df.iloc[i:(i + window), feature_col_number2]\n",
    "        tw_vol = df.iloc[i:(i + window), feature_col_number3]\n",
    "        target = df.iloc[(i + window), target_col_number]\n",
    "        \n",
    "        # using append add values in the lists\n",
    "        X_close.append(close)\n",
    "        X_polarity.append(ts_polarity)\n",
    "        X_volume.append(tw_vol)\n",
    "        y.append(target)\n",
    "        \n",
    "    return np.hstack((X_close,X_polarity,X_volume)), np.array(y).reshape(-1, 1)\n",
    "\n",
    " #  hstack() function is used to stack the sequence of input arrays horizontally (i.e. column wise) to make a single array\n"
   ]
  },
  {
   "cell_type": "code",
   "execution_count": null,
   "id": "557581a9",
   "metadata": {},
   "outputs": [],
   "source": []
  },
  {
   "cell_type": "code",
   "execution_count": 19,
   "id": "1a11dcff",
   "metadata": {},
   "outputs": [
    {
     "data": {
      "text/html": [
       "<div>\n",
       "<style scoped>\n",
       "    .dataframe tbody tr th:only-of-type {\n",
       "        vertical-align: middle;\n",
       "    }\n",
       "\n",
       "    .dataframe tbody tr th {\n",
       "        vertical-align: top;\n",
       "    }\n",
       "\n",
       "    .dataframe thead th {\n",
       "        text-align: right;\n",
       "    }\n",
       "</style>\n",
       "<table border=\"1\" class=\"dataframe\">\n",
       "  <thead>\n",
       "    <tr style=\"text-align: right;\">\n",
       "      <th></th>\n",
       "      <th>Adj Close</th>\n",
       "      <th>ts_polarity</th>\n",
       "      <th>twitter_volume</th>\n",
       "      <th>Pct_change</th>\n",
       "      <th>Stock Trend</th>\n",
       "    </tr>\n",
       "    <tr>\n",
       "      <th>Date</th>\n",
       "      <th></th>\n",
       "      <th></th>\n",
       "      <th></th>\n",
       "      <th></th>\n",
       "      <th></th>\n",
       "    </tr>\n",
       "  </thead>\n",
       "  <tbody>\n",
       "    <tr>\n",
       "      <th>2016-01-05</th>\n",
       "      <td>23.578985</td>\n",
       "      <td>0.133635</td>\n",
       "      <td>1430</td>\n",
       "      <td>-0.025059</td>\n",
       "      <td>0</td>\n",
       "    </tr>\n",
       "    <tr>\n",
       "      <th>2016-01-06</th>\n",
       "      <td>23.117548</td>\n",
       "      <td>0.072042</td>\n",
       "      <td>1949</td>\n",
       "      <td>-0.019570</td>\n",
       "      <td>0</td>\n",
       "    </tr>\n",
       "    <tr>\n",
       "      <th>2016-01-07</th>\n",
       "      <td>22.141886</td>\n",
       "      <td>0.074369</td>\n",
       "      <td>2289</td>\n",
       "      <td>-0.042204</td>\n",
       "      <td>0</td>\n",
       "    </tr>\n",
       "    <tr>\n",
       "      <th>2016-01-08</th>\n",
       "      <td>22.258965</td>\n",
       "      <td>0.051595</td>\n",
       "      <td>2235</td>\n",
       "      <td>0.005288</td>\n",
       "      <td>1</td>\n",
       "    </tr>\n",
       "    <tr>\n",
       "      <th>2016-01-11</th>\n",
       "      <td>22.619385</td>\n",
       "      <td>0.019443</td>\n",
       "      <td>1222</td>\n",
       "      <td>0.016192</td>\n",
       "      <td>1</td>\n",
       "    </tr>\n",
       "  </tbody>\n",
       "</table>\n",
       "</div>"
      ],
      "text/plain": [
       "            Adj Close  ts_polarity  twitter_volume  Pct_change  Stock Trend\n",
       "Date                                                                       \n",
       "2016-01-05  23.578985     0.133635            1430   -0.025059            0\n",
       "2016-01-06  23.117548     0.072042            1949   -0.019570            0\n",
       "2016-01-07  22.141886     0.074369            2289   -0.042204            0\n",
       "2016-01-08  22.258965     0.051595            2235    0.005288            1\n",
       "2016-01-11  22.619385     0.019443            1222    0.016192            1"
      ]
     },
     "execution_count": 19,
     "metadata": {},
     "output_type": "execute_result"
    }
   ],
   "source": [
    "df.head()"
   ]
  },
  {
   "cell_type": "code",
   "execution_count": 20,
   "id": "7540ec75",
   "metadata": {},
   "outputs": [],
   "source": [
    "# Predict Closing Prices using a 5 day window of previous closing prices\n",
    "window_size = 5\n",
    "\n",
    "# Column index 0 to Adj Close, 1 to ts_polarity & 2 to twitter_volume column\n",
    "feature_col_number1 = 0\n",
    "feature_col_number2 = 1\n",
    "feature_col_number3 = 2\n",
    "target_col_number   = 0\n",
    "X, y = w_d(df, window_size, feature_col_number1, feature_col_number2, feature_col_number3, target_col_number)\n"
   ]
  },
  {
   "cell_type": "code",
   "execution_count": 21,
   "id": "b7bd309b",
   "metadata": {},
   "outputs": [],
   "source": [
    "# spliting our data for training & testing \n",
    "SPLIT  = int(len(X)*0.7)\n",
    "\n",
    "\n",
    "X_train = X[: SPLIT]\n",
    "X_test =  X[SPLIT:]\n",
    "y_train = y[:SPLIT]\n",
    "y_test =  y[SPLIT:]"
   ]
  },
  {
   "cell_type": "code",
   "execution_count": 22,
   "id": "edcace7d",
   "metadata": {},
   "outputs": [],
   "source": [
    "# scaling  data between 0 and 1 using MinMaxScaler\n",
    "\n",
    "x_train_scaler = MinMaxScaler()\n",
    "x_test_scaler = MinMaxScaler()\n",
    "y_train_scaler = MinMaxScaler()\n",
    "y_test_scaler = MinMaxScaler()\n",
    "\n",
    "# 1.Fit the scaler for the Training Data\n",
    "x_train_scaler.fit(X_train)\n",
    "y_train_scaler.fit(y_train)\n",
    "\n",
    "# 2.Scale the training data\n",
    "X_train = x_train_scaler.transform(X_train)\n",
    "y_train = y_train_scaler.transform(y_train)\n",
    "\n",
    "\n",
    "# Fit the scaler for the Testing Data\n",
    "x_test_scaler.fit(X_test)\n",
    "y_test_scaler.fit(y_test)\n",
    "\n",
    "# Scale the y_test data\n",
    "X_test = x_test_scaler.transform(X_test)\n",
    "y_test = y_test_scaler.transform(y_test)"
   ]
  },
  {
   "cell_type": "code",
   "execution_count": 23,
   "id": "9c3ccb37",
   "metadata": {},
   "outputs": [],
   "source": [
    "# model XGB regressor \n",
    "model = XGBRegressor()"
   ]
  },
  {
   "cell_type": "code",
   "execution_count": 24,
   "id": "0c635ceb",
   "metadata": {},
   "outputs": [
    {
     "data": {
      "text/plain": [
       "XGBRegressor(base_score=0.5, booster='gbtree', callbacks=None,\n",
       "             colsample_bylevel=1, colsample_bynode=1, colsample_bytree=1,\n",
       "             early_stopping_rounds=None, enable_categorical=False,\n",
       "             eval_metric=None, gamma=0, gpu_id=-1, grow_policy='depthwise',\n",
       "             importance_type=None, interaction_constraints='',\n",
       "             learning_rate=0.300000012, max_bin=256, max_cat_to_onehot=4,\n",
       "             max_delta_step=0, max_depth=6, max_leaves=0, min_child_weight=1,\n",
       "             missing=nan, monotone_constraints='()', n_estimators=100, n_jobs=0,\n",
       "             num_parallel_tree=1, predictor='auto', random_state=0, reg_alpha=0,\n",
       "             reg_lambda=1, ...)"
      ]
     },
     "execution_count": 24,
     "metadata": {},
     "output_type": "execute_result"
    }
   ],
   "source": [
    "# Evaluation OF Model  \n",
    "model.fit(X_train,y_train.ravel())\n",
    "# .ravel() used to change a 2-dimensional array or a multi-dimensional array into a contiguous flattened array"
   ]
  },
  {
   "cell_type": "code",
   "execution_count": 25,
   "id": "e271969d",
   "metadata": {},
   "outputs": [
    {
     "name": "stdout",
     "output_type": "stream",
     "text": [
      "r square value 0.9463854019689375\n",
      "root mean sqaure error 0.05470275761831755\n"
     ]
    }
   ],
   "source": [
    "# Prediction of Model \n",
    "\n",
    "predicted = model.predict(X_test)\n",
    "\n",
    "# defining root mean squre error\n",
    "score1 =  np.sqrt(metrics.mean_squared_error(y_test, predicted))\n",
    "\n",
    "# r^2 value - Closer the value to 1 more accuratly our model perform\n",
    "score2 = metrics.r2_score(y_test, predicted)\n",
    "\n",
    "print('r square value',score2)\n",
    "print('root mean sqaure error',score1)\n",
    "\n",
    "# Both RMSE and R2 quantify how well a regression model fits a dataset. The RMSE tells us how well a regression model \n",
    "# can predict the value of the response variable in absolute terms while R2 tells us how well a model can predict the\n",
    "# value of the response variable in percentage terms."
   ]
  },
  {
   "cell_type": "code",
   "execution_count": 26,
   "id": "09de2aa3",
   "metadata": {},
   "outputs": [],
   "source": [
    "# recovering original price inspite of scaled\n",
    "\n",
    "predicted_price = y_test_scaler.inverse_transform(predicted.reshape(-1,1))\n",
    "actual_price = y_test_scaler.inverse_transform(y_test.reshape(-1,1))"
   ]
  },
  {
   "cell_type": "code",
   "execution_count": 27,
   "id": "dde28e2c",
   "metadata": {},
   "outputs": [
    {
     "data": {
      "text/html": [
       "<div>\n",
       "<style scoped>\n",
       "    .dataframe tbody tr th:only-of-type {\n",
       "        vertical-align: middle;\n",
       "    }\n",
       "\n",
       "    .dataframe tbody tr th {\n",
       "        vertical-align: top;\n",
       "    }\n",
       "\n",
       "    .dataframe thead th {\n",
       "        text-align: right;\n",
       "    }\n",
       "</style>\n",
       "<table border=\"1\" class=\"dataframe\">\n",
       "  <thead>\n",
       "    <tr style=\"text-align: right;\">\n",
       "      <th></th>\n",
       "      <th>Actual</th>\n",
       "      <th>Predicted</th>\n",
       "    </tr>\n",
       "    <tr>\n",
       "      <th>Date</th>\n",
       "      <th></th>\n",
       "      <th></th>\n",
       "    </tr>\n",
       "  </thead>\n",
       "  <tbody>\n",
       "    <tr>\n",
       "      <th>2018-07-30</th>\n",
       "      <td>45.644005</td>\n",
       "      <td>45.774765</td>\n",
       "    </tr>\n",
       "    <tr>\n",
       "      <th>2018-07-31</th>\n",
       "      <td>45.735340</td>\n",
       "      <td>45.877380</td>\n",
       "    </tr>\n",
       "    <tr>\n",
       "      <th>2018-08-01</th>\n",
       "      <td>48.429611</td>\n",
       "      <td>45.555496</td>\n",
       "    </tr>\n",
       "    <tr>\n",
       "      <th>2018-08-02</th>\n",
       "      <td>49.845245</td>\n",
       "      <td>48.467007</td>\n",
       "    </tr>\n",
       "    <tr>\n",
       "      <th>2018-08-03</th>\n",
       "      <td>49.989452</td>\n",
       "      <td>50.350338</td>\n",
       "    </tr>\n",
       "  </tbody>\n",
       "</table>\n",
       "</div>"
      ],
      "text/plain": [
       "               Actual  Predicted\n",
       "Date                            \n",
       "2018-07-30  45.644005  45.774765\n",
       "2018-07-31  45.735340  45.877380\n",
       "2018-08-01  48.429611  45.555496\n",
       "2018-08-02  49.845245  48.467007\n",
       "2018-08-03  49.989452  50.350338"
      ]
     },
     "execution_count": 27,
     "metadata": {},
     "output_type": "execute_result"
    }
   ],
   "source": [
    "# Create a DataFrame of ACtual &  Predicted stock price \n",
    "stocks = pd.DataFrame({\n",
    "    \"Actual\": actual_price.ravel(),\n",
    "    \"Predicted\": predicted_price.ravel()\n",
    "}, \n",
    "    index = df.index[-len(actual_price): ])   # here -ve sign is to matchong length of index and actual price\n",
    "stocks.head()"
   ]
  },
  {
   "cell_type": "code",
   "execution_count": 28,
   "id": "cba1e62d",
   "metadata": {},
   "outputs": [
    {
     "data": {
      "image/png": "[encoded data removed]",
      "text/plain": [
       "<Figure size 1152x576 with 1 Axes>"
      ]
     },
     "metadata": {
      "needs_background": "light"
     },
     "output_type": "display_data"
    }
   ],
   "source": [
    "# Plot the actual vs predicted stock price\n",
    "plt.figure(figsize=(16,8))\n",
    "plt.plot(actual_price,color='red',label = 'Actual value of APPL')\n",
    "plt.plot(predicted_price,color='blue',label = 'Predicted values of APPL')\n",
    "plt.title('Stock PricePrediction VS Actual')\n",
    "plt.xlabel('Time')\n",
    "plt.ylabel('Apple Stock Price')\n",
    "plt.legend()\n",
    "plt.show()"
   ]
  },
  {
   "cell_type": "code",
   "execution_count": 29,
   "id": "fa691ac6",
   "metadata": {},
   "outputs": [
    {
     "data": {
      "text/html": [
       "<div>\n",
       "<style scoped>\n",
       "    .dataframe tbody tr th:only-of-type {\n",
       "        vertical-align: middle;\n",
       "    }\n",
       "\n",
       "    .dataframe tbody tr th {\n",
       "        vertical-align: top;\n",
       "    }\n",
       "\n",
       "    .dataframe thead th {\n",
       "        text-align: right;\n",
       "    }\n",
       "</style>\n",
       "<table border=\"1\" class=\"dataframe\">\n",
       "  <thead>\n",
       "    <tr style=\"text-align: right;\">\n",
       "      <th></th>\n",
       "      <th>Actual</th>\n",
       "      <th>Predicted</th>\n",
       "      <th>difference</th>\n",
       "    </tr>\n",
       "    <tr>\n",
       "      <th>Date</th>\n",
       "      <th></th>\n",
       "      <th></th>\n",
       "      <th></th>\n",
       "    </tr>\n",
       "  </thead>\n",
       "  <tbody>\n",
       "    <tr>\n",
       "      <th>2018-07-30</th>\n",
       "      <td>45.644005</td>\n",
       "      <td>45.774765</td>\n",
       "      <td>-0.130760</td>\n",
       "    </tr>\n",
       "    <tr>\n",
       "      <th>2018-07-31</th>\n",
       "      <td>45.735340</td>\n",
       "      <td>45.877380</td>\n",
       "      <td>-0.142040</td>\n",
       "    </tr>\n",
       "    <tr>\n",
       "      <th>2018-08-01</th>\n",
       "      <td>48.429611</td>\n",
       "      <td>45.555496</td>\n",
       "      <td>2.874115</td>\n",
       "    </tr>\n",
       "    <tr>\n",
       "      <th>2018-08-02</th>\n",
       "      <td>49.845245</td>\n",
       "      <td>48.467007</td>\n",
       "      <td>1.378238</td>\n",
       "    </tr>\n",
       "    <tr>\n",
       "      <th>2018-08-03</th>\n",
       "      <td>49.989452</td>\n",
       "      <td>50.350338</td>\n",
       "      <td>-0.360886</td>\n",
       "    </tr>\n",
       "    <tr>\n",
       "      <th>...</th>\n",
       "      <td>...</td>\n",
       "      <td>...</td>\n",
       "      <td>...</td>\n",
       "    </tr>\n",
       "    <tr>\n",
       "      <th>2019-08-26</th>\n",
       "      <td>50.575821</td>\n",
       "      <td>49.631332</td>\n",
       "      <td>0.944489</td>\n",
       "    </tr>\n",
       "    <tr>\n",
       "      <th>2019-08-27</th>\n",
       "      <td>50.005135</td>\n",
       "      <td>50.534645</td>\n",
       "      <td>-0.529510</td>\n",
       "    </tr>\n",
       "    <tr>\n",
       "      <th>2019-08-28</th>\n",
       "      <td>50.340687</td>\n",
       "      <td>50.619072</td>\n",
       "      <td>-0.278385</td>\n",
       "    </tr>\n",
       "    <tr>\n",
       "      <th>2019-08-29</th>\n",
       "      <td>51.193043</td>\n",
       "      <td>50.506470</td>\n",
       "      <td>0.686573</td>\n",
       "    </tr>\n",
       "    <tr>\n",
       "      <th>2019-08-30</th>\n",
       "      <td>51.126915</td>\n",
       "      <td>51.451065</td>\n",
       "      <td>-0.324150</td>\n",
       "    </tr>\n",
       "  </tbody>\n",
       "</table>\n",
       "<p>275 rows × 3 columns</p>\n",
       "</div>"
      ],
      "text/plain": [
       "               Actual  Predicted  difference\n",
       "Date                                        \n",
       "2018-07-30  45.644005  45.774765   -0.130760\n",
       "2018-07-31  45.735340  45.877380   -0.142040\n",
       "2018-08-01  48.429611  45.555496    2.874115\n",
       "2018-08-02  49.845245  48.467007    1.378238\n",
       "2018-08-03  49.989452  50.350338   -0.360886\n",
       "...               ...        ...         ...\n",
       "2019-08-26  50.575821  49.631332    0.944489\n",
       "2019-08-27  50.005135  50.534645   -0.529510\n",
       "2019-08-28  50.340687  50.619072   -0.278385\n",
       "2019-08-29  51.193043  50.506470    0.686573\n",
       "2019-08-30  51.126915  51.451065   -0.324150\n",
       "\n",
       "[275 rows x 3 columns]"
      ]
     },
     "execution_count": 29,
     "metadata": {},
     "output_type": "execute_result"
    }
   ],
   "source": [
    "stocks['difference'] = stocks.Actual - stocks.Predicted\n",
    "stocks"
   ]
  },
  {
   "cell_type": "code",
   "execution_count": 30,
   "id": "2699f762",
   "metadata": {},
   "outputs": [
    {
     "data": {
      "text/plain": [
       "Date\n",
       "2019-05-01    2.492542\n",
       "2019-01-30    2.503155\n",
       "2018-12-26    2.629642\n",
       "2018-08-01    2.874115\n",
       "2019-06-10    3.500710\n",
       "Name: difference, dtype: float64"
      ]
     },
     "execution_count": 30,
     "metadata": {},
     "output_type": "execute_result"
    }
   ],
   "source": [
    "stocks.difference.sort_values().tail()"
   ]
  },
  {
   "cell_type": "code",
   "execution_count": null,
   "id": "7ea2dc7f",
   "metadata": {},
   "outputs": [],
   "source": []
  }
 ],
 "metadata": {
  "kernelspec": {
   "display_name": "Python 3 (ipykernel)",
   "language": "python",
   "name": "python3"
  },
  "language_info": {
   "codemirror_mode": {
    "name": "ipython",
    "version": 3
   },
   "file_extension": ".py",
   "mimetype": "text/x-python",
   "name": "python",
   "nbconvert_exporter": "python",
   "pygments_lexer": "ipython3",
   "version": "3.9.12"
  }
 },
 "nbformat": 4,
 "nbformat_minor": 5
}
